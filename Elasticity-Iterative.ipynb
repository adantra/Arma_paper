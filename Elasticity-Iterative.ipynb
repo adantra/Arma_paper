{
 "cells": [
  {
   "cell_type": "code",
   "execution_count": 1,
   "metadata": {
    "collapsed": true
   },
   "outputs": [],
   "source": [
    "from optparse import OptionParser\n",
    "import numpy as nm\n",
    "\n",
    "import sys\n",
    "sys.path.append('.')\n",
    "\n",
    "from sfepy.base.base import IndexedStruct\n",
    "from sfepy.discrete import (FieldVariable, Material, Integral, Function,\n",
    "                            Equation, Equations, Problem)\n",
    "from sfepy.discrete.fem import Mesh, FEDomain, Field\n",
    "from sfepy.terms import Term\n",
    "from sfepy.discrete.conditions import Conditions, EssentialBC\n",
    "from sfepy.solvers.ls import ScipyDirect\n",
    "from sfepy.solvers.nls import Newton"
   ]
  },
  {
   "cell_type": "code",
   "execution_count": 2,
   "metadata": {
    "collapsed": true
   },
   "outputs": [],
   "source": [
    "def shift_u_fun(ts, coors, bc=None, problem=None, shift=0.0):\n",
    "    \"\"\"\n",
    "    Define a displacement depending on the y coordinate.\n",
    "    \"\"\"\n",
    "    val = shift * coors[:,1]**2\n",
    "\n",
    "    return val\n"
   ]
  },
  {
   "cell_type": "code",
   "execution_count": 3,
   "metadata": {
    "collapsed": true
   },
   "outputs": [],
   "source": [
    "dims = nm.array((1.0,1.0,1.0))\n",
    "shape = nm.array((20,20,20))"
   ]
  },
  {
   "cell_type": "code",
   "execution_count": 4,
   "metadata": {
    "collapsed": true
   },
   "outputs": [],
   "source": [
    "centre = nm.array((0.0,0.0,0.0))"
   ]
  },
  {
   "cell_type": "code",
   "execution_count": 5,
   "metadata": {
    "collapsed": true
   },
   "outputs": [],
   "source": [
    "E_f, nu_f, E_m, nu_m  = 160.e9, 0.2, 5.e9, 0.3"
   ]
  },
  {
   "cell_type": "code",
   "execution_count": 6,
   "metadata": {
    "collapsed": false
   },
   "outputs": [],
   "source": [
    "from sfepy.mesh import mesh_generators\n",
    "from sfepy.terms.terms_elastic import CauchyStressTerm\n",
    "from sfepy.mechanics.matcoefs import stiffness_from_lame,stiffness_from_youngpoisson\n",
    "from sfepy.mechanics.tensors import get_von_mises_stress\n",
    "from sfepy.base.base import Struct\n",
    "from sfepy.discrete.probes import LineProbe\n",
    "from its2D_2 import stress_strain\n",
    "from its2D_3 import nodal_stress\n",
    "from sfepy.discrete.projections import project_by_component\n",
    "import uuid\n",
    "import os\n",
    "from pyamg import smoothed_aggregation_solver\n",
    "from scipy.sparse.linalg import bicgstab, spilu\n"
   ]
  },
  {
   "cell_type": "code",
   "execution_count": 7,
   "metadata": {
    "collapsed": true
   },
   "outputs": [],
   "source": [
    "def get_mat1(ts,coors, mode=None,**kwargs):\n",
    "    if mode == 'qp':\n",
    "        #cnf = pb.conf\n",
    "        # get material coefficients\n",
    "        \n",
    "            # given values\n",
    "            #E_f, nu_f, E_m, nu_m  = 160.e9, 0.2, 5.e9, 0.4\n",
    "\n",
    "        nqp = coors.shape[0]\n",
    "        #nel = pb.domain.mesh.n_el\n",
    "        #nqpe = nqp / nel\n",
    "        out = nm.zeros((nqp, 6, 6), dtype=nm.float64)\n",
    "        D_m = stiffness_from_youngpoisson(3, E_m, nu_m)\n",
    "        D_f = stiffness_from_youngpoisson(3, E_f, nu_f)\n",
    "        out[0:nqp, ...] = D_f\n",
    "        for i in nm.arange(nqp):\n",
    "            if coors[i,2]>-0.1 and coors[i,2]<0.1:\n",
    "                out[i,...] = D_m\n",
    "        return {'D': out}\n"
   ]
  },
  {
   "cell_type": "code",
   "execution_count": 8,
   "metadata": {
    "collapsed": false
   },
   "outputs": [
    {
     "name": "stdout",
     "output_type": "stream",
     "text": [
      "sfepy: generating 8000 vertices...\n",
      "sfepy: ...done\n",
      "sfepy: generating 6859 cells...\n",
      "sfepy: ...done\n"
     ]
    }
   ],
   "source": [
    "mesh = mesh_generators.gen_block_mesh(dims,shape,centre,name='block')\n",
    "domain = FEDomain('domain', mesh)\n",
    "\n",
    "min_x, max_x = domain.get_mesh_bounding_box()[:,0]\n",
    "min_y, max_y = domain.get_mesh_bounding_box()[:,1]\n",
    "min_z, max_z = domain.get_mesh_bounding_box()[:,2]"
   ]
  },
  {
   "cell_type": "code",
   "execution_count": 9,
   "metadata": {
    "collapsed": true
   },
   "outputs": [],
   "source": [
    "R1 = domain.create_region('Ym',\n",
    "                                  'vertices in z < %.10f' % (max_z/2))\n"
   ]
  },
  {
   "cell_type": "code",
   "execution_count": 10,
   "metadata": {
    "collapsed": true
   },
   "outputs": [],
   "source": [
    "R2 = domain.create_region('Yf',\n",
    "                                  'vertices in z >= %.10f' % (min_z/2))"
   ]
  },
  {
   "cell_type": "code",
   "execution_count": 11,
   "metadata": {
    "collapsed": true
   },
   "outputs": [],
   "source": [
    "omega = domain.create_region('Omega', 'all')"
   ]
  },
  {
   "cell_type": "code",
   "execution_count": 12,
   "metadata": {
    "collapsed": false
   },
   "outputs": [],
   "source": [
    "eps = 1e-8 * (max_x - min_x)"
   ]
  },
  {
   "cell_type": "code",
   "execution_count": 13,
   "metadata": {
    "collapsed": true
   },
   "outputs": [],
   "source": [
    "gamma1 = domain.create_region('Left',\n",
    "                                  'vertices in x < %.10f' % (min_x + eps), \n",
    "                                  'facet')"
   ]
  },
  {
   "cell_type": "code",
   "execution_count": 14,
   "metadata": {
    "collapsed": true
   },
   "outputs": [],
   "source": [
    "gamma2 = domain.create_region('Right',\n",
    "                                  'vertices in x > %.10f' % (max_x - eps),\n",
    "                                  'facet')"
   ]
  },
  {
   "cell_type": "code",
   "execution_count": 15,
   "metadata": {
    "collapsed": true
   },
   "outputs": [],
   "source": [
    "gamma3 = domain.create_region('Front',\n",
    "                                  'vertices in y < %.10f' % (min_y + eps),\n",
    "                                  'facet')"
   ]
  },
  {
   "cell_type": "code",
   "execution_count": 165,
   "metadata": {
    "collapsed": true
   },
   "outputs": [],
   "source": [
    "gamma4 = domain.create_region('Back',\n",
    "                                  'vertices in y > %.10f' % (max_y - eps),\n",
    "                                  'facet')"
   ]
  },
  {
   "cell_type": "code",
   "execution_count": 166,
   "metadata": {
    "collapsed": true
   },
   "outputs": [],
   "source": [
    "gamma5 = domain.create_region('Bottom',\n",
    "                                  'vertices in z < %.10f' % (min_z + eps),\n",
    "                                  'facet')"
   ]
  },
  {
   "cell_type": "code",
   "execution_count": 167,
   "metadata": {
    "collapsed": true
   },
   "outputs": [],
   "source": [
    "gamma6 = domain.create_region('Top',\n",
    "                                  'vertices in z > %.10f' % (max_z - eps),\n",
    "                                  'facet')"
   ]
  },
  {
   "cell_type": "code",
   "execution_count": 168,
   "metadata": {
    "collapsed": true
   },
   "outputs": [],
   "source": [
    "field = Field.from_args('fu', nm.float64, 'vector', omega, approx_order=2)\n"
   ]
  },
  {
   "cell_type": "code",
   "execution_count": 169,
   "metadata": {
    "collapsed": true
   },
   "outputs": [],
   "source": [
    "u = FieldVariable('u', 'unknown', field)"
   ]
  },
  {
   "cell_type": "code",
   "execution_count": 170,
   "metadata": {
    "collapsed": true
   },
   "outputs": [],
   "source": [
    "v = FieldVariable('v', 'test', field, primary_var_name='u')"
   ]
  },
  {
   "cell_type": "code",
   "execution_count": 171,
   "metadata": {
    "collapsed": true
   },
   "outputs": [],
   "source": [
    "get_mat = Function('get_mat1',get_mat1)"
   ]
  },
  {
   "cell_type": "code",
   "execution_count": 172,
   "metadata": {
    "collapsed": true
   },
   "outputs": [],
   "source": [
    "integral = Integral('i', order=3)"
   ]
  },
  {
   "cell_type": "code",
   "execution_count": 173,
   "metadata": {
    "collapsed": false
   },
   "outputs": [],
   "source": [
    "mu=1.1"
   ]
  },
  {
   "cell_type": "code",
   "execution_count": 174,
   "metadata": {
    "collapsed": true
   },
   "outputs": [],
   "source": [
    "lam=1.0\n"
   ]
  },
  {
   "cell_type": "code",
   "execution_count": 175,
   "metadata": {
    "collapsed": true
   },
   "outputs": [],
   "source": [
    "D = stiffness_from_lame(3,lam, mu)"
   ]
  },
  {
   "cell_type": "code",
   "execution_count": 176,
   "metadata": {
    "collapsed": true
   },
   "outputs": [],
   "source": [
    "mat = Material('Mat', D=D)"
   ]
  },
  {
   "cell_type": "code",
   "execution_count": 177,
   "metadata": {
    "collapsed": true
   },
   "outputs": [],
   "source": [
    "t1 = Term.new('dw_lin_elastic(Mat.D, v, u)',\n",
    "         integral, omega, Mat=mat, v=v, u=u)\n"
   ]
  },
  {
   "cell_type": "code",
   "execution_count": 178,
   "metadata": {
    "collapsed": false
   },
   "outputs": [],
   "source": [
    "f = Material('f', val=[[0.0], [0.0],[0.0]])"
   ]
  },
  {
   "cell_type": "code",
   "execution_count": 179,
   "metadata": {
    "collapsed": true
   },
   "outputs": [],
   "source": [
    "t2 = Term.new('dw_volume_lvf(f.val, v)', integral, omega, f=f, v=v)"
   ]
  },
  {
   "cell_type": "code",
   "execution_count": 180,
   "metadata": {
    "collapsed": true
   },
   "outputs": [],
   "source": [
    "eq = Equation('balance', t1 + t2)"
   ]
  },
  {
   "cell_type": "code",
   "execution_count": 181,
   "metadata": {
    "collapsed": true
   },
   "outputs": [],
   "source": [
    "eqs = Equations([eq])"
   ]
  },
  {
   "cell_type": "code",
   "execution_count": 182,
   "metadata": {
    "collapsed": true
   },
   "outputs": [],
   "source": [
    "fix_u = EssentialBC('fix_u', gamma1, {'u.all' : 0.0})"
   ]
  },
  {
   "cell_type": "code",
   "execution_count": 183,
   "metadata": {
    "collapsed": true
   },
   "outputs": [],
   "source": [
    "left_bc  = EssentialBC('Left',  gamma1, {'u.0' : 0.0})"
   ]
  },
  {
   "cell_type": "code",
   "execution_count": 184,
   "metadata": {
    "collapsed": true
   },
   "outputs": [],
   "source": [
    "right_bc = EssentialBC('Right', gamma2, {'u.0' : 0.0})"
   ]
  },
  {
   "cell_type": "code",
   "execution_count": 185,
   "metadata": {
    "collapsed": true
   },
   "outputs": [],
   "source": [
    "back_bc = EssentialBC('Front', gamma3, {'u.1' : 0.0})"
   ]
  },
  {
   "cell_type": "code",
   "execution_count": 186,
   "metadata": {
    "collapsed": true
   },
   "outputs": [],
   "source": [
    "bottom_bc = EssentialBC('Bottom', gamma5, {'u.all' : 0.0})"
   ]
  },
  {
   "cell_type": "code",
   "execution_count": 187,
   "metadata": {
    "collapsed": true
   },
   "outputs": [],
   "source": [
    "top_bc = EssentialBC('Top', gamma6, {'u.2' : 0.2})"
   ]
  },
  {
   "cell_type": "code",
   "execution_count": 188,
   "metadata": {
    "collapsed": false
   },
   "outputs": [],
   "source": [
    "front_bc = EssentialBC('Back', gamma4, {'u.1' : 0.0})"
   ]
  },
  {
   "cell_type": "code",
   "execution_count": 189,
   "metadata": {
    "collapsed": true
   },
   "outputs": [],
   "source": [
    "bc=[left_bc,right_bc,back_bc,front_bc,bottom_bc,top_bc]"
   ]
  },
  {
   "cell_type": "code",
   "execution_count": 190,
   "metadata": {
    "collapsed": true
   },
   "outputs": [],
   "source": [
    "conf = Struct(method='bcgsl', precond='jacobi', sub_precond=None,\n",
    "                  i_max=10000, eps_a=1e-50, eps_r=1e-10, eps_d=1e4,\n",
    "                  verbose=True)"
   ]
  },
  {
   "cell_type": "code",
   "execution_count": 191,
   "metadata": {
    "collapsed": false
   },
   "outputs": [],
   "source": [
    "from sfepy.solvers.ls import ScipyDirect,ScipyIterative,PyAMGSolver,PETScKrylovSolver"
   ]
  },
  {
   "cell_type": "code",
   "execution_count": 192,
   "metadata": {
    "collapsed": true
   },
   "outputs": [],
   "source": [
    "ls = PETScKrylovSolver(conf)"
   ]
  },
  {
   "cell_type": "code",
   "execution_count": 193,
   "metadata": {
    "collapsed": true
   },
   "outputs": [],
   "source": [
    "nls_status = IndexedStruct()"
   ]
  },
  {
   "cell_type": "code",
   "execution_count": 194,
   "metadata": {
    "collapsed": true
   },
   "outputs": [],
   "source": [
    "nls = Newton({'i_max':1,'eps_a':1e-10}, lin_solver=ls, status=nls_status)"
   ]
  },
  {
   "cell_type": "code",
   "execution_count": 195,
   "metadata": {
    "collapsed": true
   },
   "outputs": [],
   "source": [
    "pb = Problem('elasticity', equations=eqs, nls=nls, ls=ls)"
   ]
  },
  {
   "cell_type": "code",
   "execution_count": 196,
   "metadata": {
    "collapsed": true
   },
   "outputs": [],
   "source": [
    "dd=pb.get_materials()['Mat']"
   ]
  },
  {
   "cell_type": "code",
   "execution_count": 197,
   "metadata": {
    "collapsed": true
   },
   "outputs": [],
   "source": [
    "dd.set_function(get_mat1)"
   ]
  },
  {
   "cell_type": "code",
   "execution_count": 198,
   "metadata": {
    "collapsed": false
   },
   "outputs": [
    {
     "name": "stdout",
     "output_type": "stream",
     "text": [
      "sfepy: saving regions as groups...\n",
      "sfepy:   Omega\n",
      "sfepy:   Ym\n",
      "sfepy:   Yf\n",
      "sfepy:   Left\n",
      "sfepy:   Right\n",
      "sfepy:   Front\n",
      "sfepy:   Back\n",
      "sfepy:   Bottom\n",
      "sfepy:   Top\n",
      "sfepy: ...done\n"
     ]
    }
   ],
   "source": [
    "pb.save_regions_as_groups('regions')"
   ]
  },
  {
   "cell_type": "code",
   "execution_count": 199,
   "metadata": {
    "collapsed": false
   },
   "outputs": [
    {
     "name": "stdout",
     "output_type": "stream",
     "text": [
      "sfepy: updating variables...\n",
      "sfepy: ...done\n",
      "sfepy: setting up dof connectivities...\n",
      "sfepy: ...done in 0.01 s\n",
      "sfepy: matrix shape: (165945, 165945)\n",
      "sfepy: assembling matrix graph...\n",
      "sfepy: ...done in 3.34 s\n",
      "sfepy: matrix structural nonzeros: 29264715 (1.06e-03% fill)\n"
     ]
    }
   ],
   "source": [
    "pb.time_update(ebcs=Conditions(bc))"
   ]
  },
  {
   "cell_type": "code",
   "execution_count": 200,
   "metadata": {
    "collapsed": false
   },
   "outputs": [
    {
     "name": "stdout",
     "output_type": "stream",
     "text": [
      "sfepy: updating materials...\n",
      "sfepy:     Mat\n",
      "sfepy:     f\n",
      "sfepy: ...done in 0.05 s\n",
      "sfepy: nls: iter: 0, residual: 5.280543e+10 (rel: 1.000000e+00)\n",
      "sfepy: bcgsl(jacobi, None/proc) convergence: 2 (CONVERGED_RTOL)\n",
      "sfepy:   rezidual:    0.10 [s]\n",
      "sfepy:      solve:    7.98 [s]\n",
      "sfepy:     matrix:    3.59 [s]\n",
      "sfepy: warning: linear system solution precision is lower\n",
      "sfepy: then the value set in solver options! (err = 1.548756e+00 < 1.000000e-10)\n",
      "sfepy: nls: iter: 1, residual: 1.548755e+00 (rel: 2.932947e-11)\n"
     ]
    }
   ],
   "source": [
    "vec = pb.solve()"
   ]
  },
  {
   "cell_type": "code",
   "execution_count": 141,
   "metadata": {
    "collapsed": false
   },
   "outputs": [
    {
     "data": {
      "text/plain": [
       "{'active_only': True,\n",
       " 'conf': Struct,\n",
       " 'domain': FEDomain:domain,\n",
       " 'ebcs': Conditions,\n",
       " 'epbcs': Conditions,\n",
       " 'equations': Equations,\n",
       " 'evaluator': BasicEvaluator,\n",
       " 'fields': {'fu': H1NodalVolumeField:fu},\n",
       " 'file_per_var': False,\n",
       " 'float_format': None,\n",
       " 'functions': None,\n",
       " 'graph_changed': False,\n",
       " 'ics': None,\n",
       " 'integrals': None,\n",
       " 'lcbcs': Conditions,\n",
       " 'linearization': Struct,\n",
       " 'matrix_hook': None,\n",
       " 'mtx_a': <165945x165945 sparse matrix of type '<type 'numpy.float64'>'\n",
       " \twith 29264715 stored elements in Compressed Sparse Row format>,\n",
       " 'name': 'elasticity',\n",
       " 'nls': Newton:nls.newton,\n",
       " 'nls_iter_hook': None,\n",
       " 'nls_status': IndexedStruct,\n",
       " 'ofn_trunk': 'domain',\n",
       " 'output_dir': '.',\n",
       " 'output_format': 'vtk',\n",
       " 'output_modes': {'h5': 'single', 'vtk': 'sequence'},\n",
       " 'ts': TimeStepper}"
      ]
     },
     "execution_count": 141,
     "metadata": {},
     "output_type": "execute_result"
    }
   ],
   "source": [
    "pb."
   ]
  },
  {
   "cell_type": "code",
   "execution_count": 143,
   "metadata": {
    "collapsed": false
   },
   "outputs": [
    {
     "name": "stdout",
     "output_type": "stream",
     "text": [
      "sfepy: scipy solver bcgsl does not exist!\n",
      "sfepy: using cg instead\n"
     ]
    }
   ],
   "source": [
    "lss=ScipyIterative(conf)\n",
    "nls = Newton({'i_max':1,'eps_a':1e-10}, lin_solver=lss, status=nls_status)"
   ]
  },
  {
   "cell_type": "code",
   "execution_count": 144,
   "metadata": {
    "collapsed": true
   },
   "outputs": [],
   "source": [
    "pbs = Problem('elasticity', equations=eqs, nls=nls, ls=lss)"
   ]
  },
  {
   "cell_type": "code",
   "execution_count": 145,
   "metadata": {
    "collapsed": false
   },
   "outputs": [
    {
     "name": "stdout",
     "output_type": "stream",
     "text": [
      "sfepy: updating materials...\n",
      "sfepy:     Mat\n",
      "sfepy:     f\n",
      "sfepy: ...done in 0.00 s\n",
      "sfepy: nls: iter: 0, residual: 5.280543e+10 (rel: 1.000000e+00)\n"
     ]
    },
    {
     "ename": "AttributeError",
     "evalue": "'NoneType' object has no attribute 'data'",
     "output_type": "error",
     "traceback": [
      "\u001b[0;31m---------------------------------------------------------------------------\u001b[0m",
      "\u001b[0;31mAttributeError\u001b[0m                            Traceback (most recent call last)",
      "\u001b[0;32m<ipython-input-145-9ef94c54d452>\u001b[0m in \u001b[0;36m<module>\u001b[0;34m()\u001b[0m\n\u001b[0;32m----> 1\u001b[0;31m \u001b[0mvec2\u001b[0m \u001b[0;34m=\u001b[0m \u001b[0mpbs\u001b[0m\u001b[0;34m.\u001b[0m\u001b[0msolve\u001b[0m\u001b[0;34m(\u001b[0m\u001b[0;34m)\u001b[0m\u001b[0;34m\u001b[0m\u001b[0m\n\u001b[0m",
      "\u001b[0;32m/Users/adantra/anaconda/lib/python2.7/site-packages/sfepy/discrete/problem.pyc\u001b[0m in \u001b[0;36msolve\u001b[0;34m(self, state0, nls_status, ls_conf, nls_conf, force_values, var_data)\u001b[0m\n\u001b[1;32m   1018\u001b[0m \u001b[0;34m\u001b[0m\u001b[0m\n\u001b[1;32m   1019\u001b[0m         \u001b[0mself\u001b[0m\u001b[0;34m.\u001b[0m\u001b[0mnls_status\u001b[0m \u001b[0;34m=\u001b[0m \u001b[0mget_default\u001b[0m\u001b[0;34m(\u001b[0m\u001b[0mnls_status\u001b[0m\u001b[0;34m,\u001b[0m \u001b[0mself\u001b[0m\u001b[0;34m.\u001b[0m\u001b[0mnls_status\u001b[0m\u001b[0;34m)\u001b[0m\u001b[0;34m\u001b[0m\u001b[0m\n\u001b[0;32m-> 1020\u001b[0;31m         \u001b[0mvec\u001b[0m \u001b[0;34m=\u001b[0m \u001b[0mnls\u001b[0m\u001b[0;34m(\u001b[0m\u001b[0mvec0\u001b[0m\u001b[0;34m,\u001b[0m \u001b[0mstatus\u001b[0m\u001b[0;34m=\u001b[0m\u001b[0mself\u001b[0m\u001b[0;34m.\u001b[0m\u001b[0mnls_status\u001b[0m\u001b[0;34m)\u001b[0m\u001b[0;34m\u001b[0m\u001b[0m\n\u001b[0m\u001b[1;32m   1021\u001b[0m \u001b[0;34m\u001b[0m\u001b[0m\n\u001b[1;32m   1022\u001b[0m         \u001b[0mstate\u001b[0m \u001b[0;34m=\u001b[0m \u001b[0mstate0\u001b[0m\u001b[0;34m.\u001b[0m\u001b[0mcopy\u001b[0m\u001b[0;34m(\u001b[0m\u001b[0mpreserve_caches\u001b[0m\u001b[0;34m=\u001b[0m\u001b[0mTrue\u001b[0m\u001b[0;34m)\u001b[0m\u001b[0;34m\u001b[0m\u001b[0m\n",
      "\u001b[0;32m/Users/adantra/anaconda/lib/python2.7/site-packages/sfepy/solvers/nls.pyc\u001b[0m in \u001b[0;36m__call__\u001b[0;34m(self, vec_x0, conf, fun, fun_grad, lin_solver, iter_hook, status)\u001b[0m\n\u001b[1;32m    316\u001b[0m             \u001b[0mtt\u001b[0m \u001b[0;34m=\u001b[0m \u001b[0mtime\u001b[0m\u001b[0;34m.\u001b[0m\u001b[0mclock\u001b[0m\u001b[0;34m(\u001b[0m\u001b[0;34m)\u001b[0m\u001b[0;34m\u001b[0m\u001b[0m\n\u001b[1;32m    317\u001b[0m             \u001b[0;32mif\u001b[0m \u001b[0;32mnot\u001b[0m \u001b[0mconf\u001b[0m\u001b[0;34m.\u001b[0m\u001b[0mis_linear\u001b[0m\u001b[0;34m:\u001b[0m\u001b[0;34m\u001b[0m\u001b[0m\n\u001b[0;32m--> 318\u001b[0;31m                 \u001b[0mmtx_a\u001b[0m \u001b[0;34m=\u001b[0m \u001b[0mfun_grad\u001b[0m\u001b[0;34m(\u001b[0m\u001b[0mvec_x\u001b[0m\u001b[0;34m)\u001b[0m\u001b[0;34m\u001b[0m\u001b[0m\n\u001b[0m\u001b[1;32m    319\u001b[0m \u001b[0;34m\u001b[0m\u001b[0m\n\u001b[1;32m    320\u001b[0m             \u001b[0;32melse\u001b[0m\u001b[0;34m:\u001b[0m\u001b[0;34m\u001b[0m\u001b[0m\n",
      "\u001b[0;32m/Users/adantra/anaconda/lib/python2.7/site-packages/sfepy/discrete/evaluate.pyc\u001b[0m in \u001b[0;36meval_tangent_matrix\u001b[0;34m(self, vec, mtx, is_full)\u001b[0m\n\u001b[1;32m     66\u001b[0m         \u001b[0;32mif\u001b[0m \u001b[0mmtx\u001b[0m \u001b[0;32mis\u001b[0m \u001b[0mNone\u001b[0m\u001b[0;34m:\u001b[0m\u001b[0;34m\u001b[0m\u001b[0m\n\u001b[1;32m     67\u001b[0m             \u001b[0mmtx\u001b[0m \u001b[0;34m=\u001b[0m \u001b[0mpb\u001b[0m\u001b[0;34m.\u001b[0m\u001b[0mmtx_a\u001b[0m\u001b[0;34m\u001b[0m\u001b[0m\n\u001b[0;32m---> 68\u001b[0;31m         \u001b[0mmtx\u001b[0m \u001b[0;34m=\u001b[0m \u001b[0mpb\u001b[0m\u001b[0;34m.\u001b[0m\u001b[0mequations\u001b[0m\u001b[0;34m.\u001b[0m\u001b[0meval_tangent_matrices\u001b[0m\u001b[0;34m(\u001b[0m\u001b[0mvec\u001b[0m\u001b[0;34m,\u001b[0m \u001b[0mmtx\u001b[0m\u001b[0;34m)\u001b[0m\u001b[0;34m\u001b[0m\u001b[0m\n\u001b[0m\u001b[1;32m     69\u001b[0m \u001b[0;34m\u001b[0m\u001b[0m\n\u001b[1;32m     70\u001b[0m         \u001b[0;32mif\u001b[0m \u001b[0mself\u001b[0m\u001b[0;34m.\u001b[0m\u001b[0mmatrix_hook\u001b[0m \u001b[0;32mis\u001b[0m \u001b[0;32mnot\u001b[0m \u001b[0mNone\u001b[0m\u001b[0;34m:\u001b[0m\u001b[0;34m\u001b[0m\u001b[0m\n",
      "\u001b[0;32m/Users/adantra/anaconda/lib/python2.7/site-packages/sfepy/discrete/equations.pyc\u001b[0m in \u001b[0;36meval_tangent_matrices\u001b[0;34m(self, state, tangent_matrix, by_blocks, names)\u001b[0m\n\u001b[1;32m    730\u001b[0m \u001b[0;34m\u001b[0m\u001b[0m\n\u001b[1;32m    731\u001b[0m         \u001b[0;32melse\u001b[0m\u001b[0;34m:\u001b[0m\u001b[0;34m\u001b[0m\u001b[0m\n\u001b[0;32m--> 732\u001b[0;31m             \u001b[0mtangent_matrix\u001b[0m\u001b[0;34m.\u001b[0m\u001b[0mdata\u001b[0m\u001b[0;34m[\u001b[0m\u001b[0;34m:\u001b[0m\u001b[0;34m]\u001b[0m \u001b[0;34m=\u001b[0m \u001b[0;36m0.0\u001b[0m\u001b[0;34m\u001b[0m\u001b[0m\n\u001b[0m\u001b[1;32m    733\u001b[0m \u001b[0;34m\u001b[0m\u001b[0m\n\u001b[1;32m    734\u001b[0m             \u001b[0mself\u001b[0m\u001b[0;34m.\u001b[0m\u001b[0mevaluate\u001b[0m\u001b[0;34m(\u001b[0m\u001b[0mmode\u001b[0m\u001b[0;34m=\u001b[0m\u001b[0;34m'weak'\u001b[0m\u001b[0;34m,\u001b[0m \u001b[0mdw_mode\u001b[0m\u001b[0;34m=\u001b[0m\u001b[0;34m'matrix'\u001b[0m\u001b[0;34m,\u001b[0m \u001b[0masm_obj\u001b[0m\u001b[0;34m=\u001b[0m\u001b[0mtangent_matrix\u001b[0m\u001b[0;34m)\u001b[0m\u001b[0;34m\u001b[0m\u001b[0m\n",
      "\u001b[0;31mAttributeError\u001b[0m: 'NoneType' object has no attribute 'data'"
     ]
    }
   ],
   "source": [
    "vec2 = pbs.solve()"
   ]
  },
  {
   "cell_type": "code",
   "execution_count": null,
   "metadata": {
    "collapsed": true
   },
   "outputs": [],
   "source": []
  }
 ],
 "metadata": {
  "kernelspec": {
   "display_name": "Python 2",
   "language": "python",
   "name": "python2"
  },
  "language_info": {
   "codemirror_mode": {
    "name": "ipython",
    "version": 2
   },
   "file_extension": ".py",
   "mimetype": "text/x-python",
   "name": "python",
   "nbconvert_exporter": "python",
   "pygments_lexer": "ipython2",
   "version": "2.7.11"
  }
 },
 "nbformat": 4,
 "nbformat_minor": 0
}
